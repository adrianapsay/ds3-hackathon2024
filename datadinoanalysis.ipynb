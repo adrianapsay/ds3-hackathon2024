{
 "cells": [
  {
   "cell_type": "code",
<<<<<<< HEAD
   "execution_count": 1,
   "id": "ca5b4167",
=======
   "execution_count": 36,
   "id": "78cd7766",
   "metadata": {},
   "outputs": [],
   "source": [
    "import numpy as np\n",
    "import pandas as pd\n",
    "import os\n",
    "import pandas as pd\n",
    "from PIL import Image"
   ]
  },
  {
   "cell_type": "code",
   "execution_count": 37,
   "id": "973ae94a",
   "metadata": {},
   "outputs": [],
   "source": [
    "def df_image_converter(main_folder_path):\n",
    "    main_folder = main_folder_path  # Replace with the path to your main folder\n",
    "    labels = []\n",
    "    images = []\n",
    "\n",
    "    # iterating over each sub folder in the main \n",
    "    for sub_folder in os.listdir(main_folder):\n",
    "        sub_folder_path = os.path.join(main_folder, sub_folder)\n",
    "\n",
    "        # iterating over image in each sub folder\n",
    "        for image_name in os.listdir(sub_folder_path):\n",
    "            image_path = os.path.join(sub_folder_path, image_name)\n",
    "            \n",
    "            # image processecing with grayscaling and resizing\n",
    "            img = Image.open(image_path)\n",
    "            img = img.convert(\"L\")\n",
    "            img = img.resize((250, 250))\n",
    "\n",
    "            # appending specific dinosaur species with label\n",
    "            labels.append(sub_folder)\n",
    "            images.append(img)\n",
    "\n",
    "    # dataframe with species and image path\n",
    "    df = pd.DataFrame({'Dinosaur Species': labels, 'Dinosaur PIL':images})\n",
    "    return df"
   ]
  },
  {
   "cell_type": "code",
   "execution_count": 38,
   "id": "ae4446f6",
>>>>>>> c648e8c9690ceb57ee15f203e37f918f8e44c7f9
   "metadata": {},
   "outputs": [
    {
     "data": {
<<<<<<< HEAD
      "text/plain": [
       "'/Users/adrianapsay/Desktop/ds3-hackathon2024'"
      ]
     },
     "execution_count": 1,
=======
      "text/html": [
       "<div>\n",
       "<style scoped>\n",
       "    .dataframe tbody tr th:only-of-type {\n",
       "        vertical-align: middle;\n",
       "    }\n",
       "\n",
       "    .dataframe tbody tr th {\n",
       "        vertical-align: top;\n",
       "    }\n",
       "\n",
       "    .dataframe thead th {\n",
       "        text-align: right;\n",
       "    }\n",
       "</style>\n",
       "<table border=\"1\" class=\"dataframe\">\n",
       "  <thead>\n",
       "    <tr style=\"text-align: right;\">\n",
       "      <th></th>\n",
       "      <th>Dinosaur Species</th>\n",
       "      <th>Dinosaur PIL</th>\n",
       "    </tr>\n",
       "  </thead>\n",
       "  <tbody>\n",
       "    <tr>\n",
       "      <th>0</th>\n",
       "      <td>ankylosaurus</td>\n",
       "      <td>&lt;PIL.Image.Image image mode=L size=250x250 at ...</td>\n",
       "    </tr>\n",
       "    <tr>\n",
       "      <th>1</th>\n",
       "      <td>ankylosaurus</td>\n",
       "      <td>&lt;PIL.Image.Image image mode=L size=250x250 at ...</td>\n",
       "    </tr>\n",
       "    <tr>\n",
       "      <th>2</th>\n",
       "      <td>ankylosaurus</td>\n",
       "      <td>&lt;PIL.Image.Image image mode=L size=250x250 at ...</td>\n",
       "    </tr>\n",
       "    <tr>\n",
       "      <th>3</th>\n",
       "      <td>ankylosaurus</td>\n",
       "      <td>&lt;PIL.Image.Image image mode=L size=250x250 at ...</td>\n",
       "    </tr>\n",
       "    <tr>\n",
       "      <th>4</th>\n",
       "      <td>ankylosaurus</td>\n",
       "      <td>&lt;PIL.Image.Image image mode=L size=250x250 at ...</td>\n",
       "    </tr>\n",
       "    <tr>\n",
       "      <th>...</th>\n",
       "      <td>...</td>\n",
       "      <td>...</td>\n",
       "    </tr>\n",
       "    <tr>\n",
       "      <th>195</th>\n",
       "      <td>triceratops</td>\n",
       "      <td>&lt;PIL.Image.Image image mode=L size=250x250 at ...</td>\n",
       "    </tr>\n",
       "    <tr>\n",
       "      <th>196</th>\n",
       "      <td>triceratops</td>\n",
       "      <td>&lt;PIL.Image.Image image mode=L size=250x250 at ...</td>\n",
       "    </tr>\n",
       "    <tr>\n",
       "      <th>197</th>\n",
       "      <td>triceratops</td>\n",
       "      <td>&lt;PIL.Image.Image image mode=L size=250x250 at ...</td>\n",
       "    </tr>\n",
       "    <tr>\n",
       "      <th>198</th>\n",
       "      <td>triceratops</td>\n",
       "      <td>&lt;PIL.Image.Image image mode=L size=250x250 at ...</td>\n",
       "    </tr>\n",
       "    <tr>\n",
       "      <th>199</th>\n",
       "      <td>triceratops</td>\n",
       "      <td>&lt;PIL.Image.Image image mode=L size=250x250 at ...</td>\n",
       "    </tr>\n",
       "  </tbody>\n",
       "</table>\n",
       "<p>200 rows × 2 columns</p>\n",
       "</div>"
      ],
      "text/plain": [
       "    Dinosaur Species                                       Dinosaur PIL\n",
       "0       ankylosaurus  <PIL.Image.Image image mode=L size=250x250 at ...\n",
       "1       ankylosaurus  <PIL.Image.Image image mode=L size=250x250 at ...\n",
       "2       ankylosaurus  <PIL.Image.Image image mode=L size=250x250 at ...\n",
       "3       ankylosaurus  <PIL.Image.Image image mode=L size=250x250 at ...\n",
       "4       ankylosaurus  <PIL.Image.Image image mode=L size=250x250 at ...\n",
       "..               ...                                                ...\n",
       "195      triceratops  <PIL.Image.Image image mode=L size=250x250 at ...\n",
       "196      triceratops  <PIL.Image.Image image mode=L size=250x250 at ...\n",
       "197      triceratops  <PIL.Image.Image image mode=L size=250x250 at ...\n",
       "198      triceratops  <PIL.Image.Image image mode=L size=250x250 at ...\n",
       "199      triceratops  <PIL.Image.Image image mode=L size=250x250 at ...\n",
       "\n",
       "[200 rows x 2 columns]"
      ]
     },
     "execution_count": 38,
>>>>>>> c648e8c9690ceb57ee15f203e37f918f8e44c7f9
     "metadata": {},
     "output_type": "execute_result"
    }
   ],
   "source": [
<<<<<<< HEAD
    "%pwd"
=======
    "dino_df = df_image_converter(\"dinopics\")\n",
    "dino_df"
   ]
  },
  {
   "cell_type": "code",
   "execution_count": 39,
   "id": "03cf22cc",
   "metadata": {},
   "outputs": [
    {
     "ename": "KeyError",
     "evalue": "'Paths'",
     "output_type": "error",
     "traceback": [
      "\u001b[1;31m---------------------------------------------------------------------------\u001b[0m",
      "\u001b[1;31mKeyError\u001b[0m                                  Traceback (most recent call last)",
      "File \u001b[1;32m~\\anaconda3\\Lib\\site-packages\\pandas\\core\\indexes\\base.py:3653\u001b[0m, in \u001b[0;36mIndex.get_loc\u001b[1;34m(self, key)\u001b[0m\n\u001b[0;32m   3652\u001b[0m \u001b[38;5;28;01mtry\u001b[39;00m:\n\u001b[1;32m-> 3653\u001b[0m     \u001b[38;5;28;01mreturn\u001b[39;00m \u001b[38;5;28mself\u001b[39m\u001b[38;5;241m.\u001b[39m_engine\u001b[38;5;241m.\u001b[39mget_loc(casted_key)\n\u001b[0;32m   3654\u001b[0m \u001b[38;5;28;01mexcept\u001b[39;00m \u001b[38;5;167;01mKeyError\u001b[39;00m \u001b[38;5;28;01mas\u001b[39;00m err:\n",
      "File \u001b[1;32m~\\anaconda3\\Lib\\site-packages\\pandas\\_libs\\index.pyx:147\u001b[0m, in \u001b[0;36mpandas._libs.index.IndexEngine.get_loc\u001b[1;34m()\u001b[0m\n",
      "File \u001b[1;32m~\\anaconda3\\Lib\\site-packages\\pandas\\_libs\\index.pyx:176\u001b[0m, in \u001b[0;36mpandas._libs.index.IndexEngine.get_loc\u001b[1;34m()\u001b[0m\n",
      "File \u001b[1;32mpandas\\_libs\\hashtable_class_helper.pxi:7080\u001b[0m, in \u001b[0;36mpandas._libs.hashtable.PyObjectHashTable.get_item\u001b[1;34m()\u001b[0m\n",
      "File \u001b[1;32mpandas\\_libs\\hashtable_class_helper.pxi:7088\u001b[0m, in \u001b[0;36mpandas._libs.hashtable.PyObjectHashTable.get_item\u001b[1;34m()\u001b[0m\n",
      "\u001b[1;31mKeyError\u001b[0m: 'Paths'",
      "\nThe above exception was the direct cause of the following exception:\n",
      "\u001b[1;31mKeyError\u001b[0m                                  Traceback (most recent call last)",
      "Cell \u001b[1;32mIn[39], line 1\u001b[0m\n\u001b[1;32m----> 1\u001b[0m dino_df[\u001b[38;5;124m'\u001b[39m\u001b[38;5;124mPaths\u001b[39m\u001b[38;5;124m'\u001b[39m]\u001b[38;5;241m.\u001b[39miloc[\u001b[38;5;241m100\u001b[39m]\n",
      "File \u001b[1;32m~\\anaconda3\\Lib\\site-packages\\pandas\\core\\frame.py:3761\u001b[0m, in \u001b[0;36mDataFrame.__getitem__\u001b[1;34m(self, key)\u001b[0m\n\u001b[0;32m   3759\u001b[0m \u001b[38;5;28;01mif\u001b[39;00m \u001b[38;5;28mself\u001b[39m\u001b[38;5;241m.\u001b[39mcolumns\u001b[38;5;241m.\u001b[39mnlevels \u001b[38;5;241m>\u001b[39m \u001b[38;5;241m1\u001b[39m:\n\u001b[0;32m   3760\u001b[0m     \u001b[38;5;28;01mreturn\u001b[39;00m \u001b[38;5;28mself\u001b[39m\u001b[38;5;241m.\u001b[39m_getitem_multilevel(key)\n\u001b[1;32m-> 3761\u001b[0m indexer \u001b[38;5;241m=\u001b[39m \u001b[38;5;28mself\u001b[39m\u001b[38;5;241m.\u001b[39mcolumns\u001b[38;5;241m.\u001b[39mget_loc(key)\n\u001b[0;32m   3762\u001b[0m \u001b[38;5;28;01mif\u001b[39;00m is_integer(indexer):\n\u001b[0;32m   3763\u001b[0m     indexer \u001b[38;5;241m=\u001b[39m [indexer]\n",
      "File \u001b[1;32m~\\anaconda3\\Lib\\site-packages\\pandas\\core\\indexes\\base.py:3655\u001b[0m, in \u001b[0;36mIndex.get_loc\u001b[1;34m(self, key)\u001b[0m\n\u001b[0;32m   3653\u001b[0m     \u001b[38;5;28;01mreturn\u001b[39;00m \u001b[38;5;28mself\u001b[39m\u001b[38;5;241m.\u001b[39m_engine\u001b[38;5;241m.\u001b[39mget_loc(casted_key)\n\u001b[0;32m   3654\u001b[0m \u001b[38;5;28;01mexcept\u001b[39;00m \u001b[38;5;167;01mKeyError\u001b[39;00m \u001b[38;5;28;01mas\u001b[39;00m err:\n\u001b[1;32m-> 3655\u001b[0m     \u001b[38;5;28;01mraise\u001b[39;00m \u001b[38;5;167;01mKeyError\u001b[39;00m(key) \u001b[38;5;28;01mfrom\u001b[39;00m \u001b[38;5;21;01merr\u001b[39;00m\n\u001b[0;32m   3656\u001b[0m \u001b[38;5;28;01mexcept\u001b[39;00m \u001b[38;5;167;01mTypeError\u001b[39;00m:\n\u001b[0;32m   3657\u001b[0m     \u001b[38;5;66;03m# If we have a listlike key, _check_indexing_error will raise\u001b[39;00m\n\u001b[0;32m   3658\u001b[0m     \u001b[38;5;66;03m#  InvalidIndexError. Otherwise we fall through and re-raise\u001b[39;00m\n\u001b[0;32m   3659\u001b[0m     \u001b[38;5;66;03m#  the TypeError.\u001b[39;00m\n\u001b[0;32m   3660\u001b[0m     \u001b[38;5;28mself\u001b[39m\u001b[38;5;241m.\u001b[39m_check_indexing_error(key)\n",
      "\u001b[1;31mKeyError\u001b[0m: 'Paths'"
     ]
    }
   ],
   "source": [
    "dino_df['Paths'].iloc[100]"
>>>>>>> c648e8c9690ceb57ee15f203e37f918f8e44c7f9
   ]
  },
  {
   "cell_type": "code",
   "execution_count": null,
<<<<<<< HEAD
   "id": "8878c7c2",
=======
   "id": "75c80962",
>>>>>>> c648e8c9690ceb57ee15f203e37f918f8e44c7f9
   "metadata": {},
   "outputs": [],
   "source": []
  }
 ],
 "metadata": {
  "kernelspec": {
   "display_name": "Python 3 (ipykernel)",
   "language": "python",
   "name": "python3"
  },
  "language_info": {
   "codemirror_mode": {
    "name": "ipython",
    "version": 3
   },
   "file_extension": ".py",
   "mimetype": "text/x-python",
   "name": "python",
   "nbconvert_exporter": "python",
   "pygments_lexer": "ipython3",
   "version": "3.11.5"
  }
 },
 "nbformat": 4,
 "nbformat_minor": 5
}
